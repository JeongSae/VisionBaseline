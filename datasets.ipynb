{
 "cells": [
  {
   "cell_type": "code",
   "execution_count": 1,
   "id": "283e8829",
   "metadata": {},
   "outputs": [
    {
     "name": "stdout",
     "output_type": "stream",
     "text": [
      "Downloading https://www.cs.toronto.edu/~kriz/cifar-100-python.tar.gz to datasets/cifar-100-python.tar.gz\n"
     ]
    },
    {
     "name": "stderr",
     "output_type": "stream",
     "text": [
      "100%|██████████████████████████████████████████████████████████████| 169001437/169001437 [00:12<00:00, 13551554.61it/s]\n"
     ]
    },
    {
     "name": "stdout",
     "output_type": "stream",
     "text": [
      "Extracting datasets/cifar-100-python.tar.gz to datasets/\n"
     ]
    }
   ],
   "source": [
    "import torchvision\n",
    "\n",
    "train_data = torchvision.datasets.CIFAR100('datasets/', train=True, download=True)"
   ]
  },
  {
   "cell_type": "code",
   "execution_count": 3,
   "id": "fd757316",
   "metadata": {},
   "outputs": [
    {
     "name": "stdout",
     "output_type": "stream",
     "text": [
      "Downloading https://thor.robots.ox.ac.uk/datasets/flowers-102/102flowers.tgz to datasets\\flowers-102\\102flowers.tgz\n"
     ]
    },
    {
     "name": "stderr",
     "output_type": "stream",
     "text": [
      "100%|███████████████████████████████████████████████████████████████| 344862509/344862509 [00:37<00:00, 9255690.27it/s]\n"
     ]
    },
    {
     "name": "stdout",
     "output_type": "stream",
     "text": [
      "Extracting datasets\\flowers-102\\102flowers.tgz to datasets\\flowers-102\n",
      "Downloading https://thor.robots.ox.ac.uk/datasets/flowers-102/imagelabels.mat to datasets\\flowers-102\\imagelabels.mat\n"
     ]
    },
    {
     "name": "stderr",
     "output_type": "stream",
     "text": [
      "100%|████████████████████████████████████████████████████████████████████████████| 502/502 [00:00<00:00, 501797.09it/s]\n"
     ]
    },
    {
     "name": "stdout",
     "output_type": "stream",
     "text": [
      "Downloading https://thor.robots.ox.ac.uk/datasets/flowers-102/setid.mat to datasets\\flowers-102\\setid.mat\n"
     ]
    },
    {
     "name": "stderr",
     "output_type": "stream",
     "text": [
      "100%|██████████████████████████████████████████████████████████████████████| 14989/14989 [00:00<00:00, 14990086.47it/s]\n"
     ]
    },
    {
     "data": {
      "text/plain": [
       "Dataset Flowers102\n",
       "    Number of datapoints: 1020\n",
       "    Root location: datasets/\n",
       "    split=train"
      ]
     },
     "execution_count": 3,
     "metadata": {},
     "output_type": "execute_result"
    }
   ],
   "source": [
    "torchvision.datasets.Flowers102('datasets/', download=True)"
   ]
  },
  {
   "cell_type": "code",
   "execution_count": 5,
   "id": "16e4cb17",
   "metadata": {},
   "outputs": [],
   "source": [
    "from scipy import io\n",
    "\n",
    "iomat_file = io.loadmat('datasets/flowers-102/imagelabels.mat')"
   ]
  },
  {
   "cell_type": "code",
   "execution_count": 11,
   "id": "d5e8493a",
   "metadata": {},
   "outputs": [
    {
     "data": {
      "text/plain": [
       "{'__header__': b'MATLAB 5.0 MAT-file, Platform: GLNX86, Created on: Thu Feb 19 15:43:33 2009',\n",
       " '__version__': '1.0',\n",
       " '__globals__': [],\n",
       " 'labels': array([[77, 77, 77, ..., 62, 62, 62]], dtype=uint8)}"
      ]
     },
     "execution_count": 11,
     "metadata": {},
     "output_type": "execute_result"
    }
   ],
   "source": [
    "iomat_file"
   ]
  },
  {
   "cell_type": "code",
   "execution_count": 10,
   "id": "1af221ed",
   "metadata": {},
   "outputs": [
    {
     "data": {
      "text/plain": [
       "8189"
      ]
     },
     "execution_count": 10,
     "metadata": {},
     "output_type": "execute_result"
    }
   ],
   "source": [
    "len(iomat_file['labels'][0])"
   ]
  },
  {
   "cell_type": "code",
   "execution_count": 15,
   "id": "ebf11b8e",
   "metadata": {},
   "outputs": [
    {
     "data": {
      "text/plain": [
       "array([76, 76, 76, ..., 61, 61, 61], dtype=uint8)"
      ]
     },
     "execution_count": 15,
     "metadata": {},
     "output_type": "execute_result"
    }
   ],
   "source": [
    "iomat_file['labels'][0] - 1"
   ]
  },
  {
   "cell_type": "code",
   "execution_count": 12,
   "id": "ee6a09ba",
   "metadata": {},
   "outputs": [
    {
     "data": {
      "text/plain": [
       "array([  1,   2,   3,   4,   5,   6,   7,   8,   9,  10,  11,  12,  13,\n",
       "        14,  15,  16,  17,  18,  19,  20,  21,  22,  23,  24,  25,  26,\n",
       "        27,  28,  29,  30,  31,  32,  33,  34,  35,  36,  37,  38,  39,\n",
       "        40,  41,  42,  43,  44,  45,  46,  47,  48,  49,  50,  51,  52,\n",
       "        53,  54,  55,  56,  57,  58,  59,  60,  61,  62,  63,  64,  65,\n",
       "        66,  67,  68,  69,  70,  71,  72,  73,  74,  75,  76,  77,  78,\n",
       "        79,  80,  81,  82,  83,  84,  85,  86,  87,  88,  89,  90,  91,\n",
       "        92,  93,  94,  95,  96,  97,  98,  99, 100, 101, 102], dtype=uint8)"
      ]
     },
     "execution_count": 12,
     "metadata": {},
     "output_type": "execute_result"
    }
   ],
   "source": [
    "import numpy as np\n",
    "\n",
    "np.unique(iomat_file['labels'])"
   ]
  },
  {
   "cell_type": "code",
   "execution_count": 18,
   "id": "faa79778",
   "metadata": {},
   "outputs": [
    {
     "name": "stdout",
     "output_type": "stream",
     "text": [
      "Downloading https://thor.robots.ox.ac.uk/datasets/flowers-102/102flowers.tgz to datasets\\valid\\flowers-102\\102flowers.tgz\n"
     ]
    },
    {
     "name": "stderr",
     "output_type": "stream",
     "text": [
      "100%|███████████████████████████████████████████████████████████████| 344862509/344862509 [00:41<00:00, 8231129.19it/s]\n"
     ]
    },
    {
     "name": "stdout",
     "output_type": "stream",
     "text": [
      "Extracting datasets\\valid\\flowers-102\\102flowers.tgz to datasets\\valid\\flowers-102\n",
      "Downloading https://thor.robots.ox.ac.uk/datasets/flowers-102/imagelabels.mat to datasets\\valid\\flowers-102\\imagelabels.mat\n"
     ]
    },
    {
     "name": "stderr",
     "output_type": "stream",
     "text": [
      "100%|████████████████████████████████████████████████████████████████████████████| 502/502 [00:00<00:00, 502156.12it/s]\n"
     ]
    },
    {
     "name": "stdout",
     "output_type": "stream",
     "text": [
      "Downloading https://thor.robots.ox.ac.uk/datasets/flowers-102/setid.mat to datasets\\valid\\flowers-102\\setid.mat\n"
     ]
    },
    {
     "name": "stderr",
     "output_type": "stream",
     "text": [
      "100%|██████████████████████████████████████████████████████████████████████| 14989/14989 [00:00<00:00, 14993661.50it/s]\n"
     ]
    },
    {
     "data": {
      "text/plain": [
       "Dataset Flowers102\n",
       "    Number of datapoints: 1020\n",
       "    Root location: datasets/valid/\n",
       "    split=val"
      ]
     },
     "execution_count": 18,
     "metadata": {},
     "output_type": "execute_result"
    }
   ],
   "source": [
    "torchvision.datasets.Flowers102('datasets/valid/', split='val', download=True)"
   ]
  },
  {
   "cell_type": "code",
   "execution_count": 19,
   "id": "69993906",
   "metadata": {},
   "outputs": [
    {
     "name": "stdout",
     "output_type": "stream",
     "text": [
      "Downloading https://thor.robots.ox.ac.uk/datasets/flowers-102/102flowers.tgz to datasets\\test\\flowers-102\\102flowers.tgz\n"
     ]
    },
    {
     "name": "stderr",
     "output_type": "stream",
     "text": [
      "100%|███████████████████████████████████████████████████████████████| 344862509/344862509 [00:41<00:00, 8331992.11it/s]\n"
     ]
    },
    {
     "name": "stdout",
     "output_type": "stream",
     "text": [
      "Extracting datasets\\test\\flowers-102\\102flowers.tgz to datasets\\test\\flowers-102\n",
      "Downloading https://thor.robots.ox.ac.uk/datasets/flowers-102/imagelabels.mat to datasets\\test\\flowers-102\\imagelabels.mat\n"
     ]
    },
    {
     "name": "stderr",
     "output_type": "stream",
     "text": [
      "100%|████████████████████████████████████████████████████████████████████████████| 502/502 [00:00<00:00, 502036.39it/s]\n"
     ]
    },
    {
     "name": "stdout",
     "output_type": "stream",
     "text": [
      "Downloading https://thor.robots.ox.ac.uk/datasets/flowers-102/setid.mat to datasets\\test\\flowers-102\\setid.mat\n"
     ]
    },
    {
     "name": "stderr",
     "output_type": "stream",
     "text": [
      "100%|███████████████████████████████████████████████████████████████████████| 14989/14989 [00:00<00:00, 7494149.80it/s]\n"
     ]
    },
    {
     "data": {
      "text/plain": [
       "Dataset Flowers102\n",
       "    Number of datapoints: 6149\n",
       "    Root location: datasets/test/\n",
       "    split=test"
      ]
     },
     "execution_count": 19,
     "metadata": {},
     "output_type": "execute_result"
    }
   ],
   "source": [
    "torchvision.datasets.Flowers102('datasets/test/', split='test', download=True)"
   ]
  },
  {
   "cell_type": "code",
   "execution_count": 35,
   "id": "a66341e3",
   "metadata": {},
   "outputs": [],
   "source": [
    "iomat_file = io.loadmat('datasets/flowers-102/train/setid.mat')"
   ]
  },
  {
   "cell_type": "code",
   "execution_count": 36,
   "id": "87ce9f78",
   "metadata": {},
   "outputs": [
    {
     "data": {
      "text/plain": [
       "{'__header__': b'MATLAB 5.0 MAT-file, Platform: GLNX86, Created on: Thu Feb 19 17:38:58 2009',\n",
       " '__version__': '1.0',\n",
       " '__globals__': [],\n",
       " 'trnid': array([[6765, 6755, 6768, ..., 8026, 8036, 8041]], dtype=uint16),\n",
       " 'valid': array([[6773, 6767, 6739, ..., 8028, 8008, 8030]], dtype=uint16),\n",
       " 'tstid': array([[6734, 6735, 6737, ..., 8044, 8045, 8047]], dtype=uint16)}"
      ]
     },
     "execution_count": 36,
     "metadata": {},
     "output_type": "execute_result"
    }
   ],
   "source": [
    "iomat_file"
   ]
  },
  {
   "cell_type": "code",
   "execution_count": 37,
   "id": "fcfcee95",
   "metadata": {},
   "outputs": [
    {
     "data": {
      "text/plain": [
       "1020"
      ]
     },
     "execution_count": 37,
     "metadata": {},
     "output_type": "execute_result"
    }
   ],
   "source": [
    "len(iomat_file['trnid'][0])"
   ]
  },
  {
   "cell_type": "code",
   "execution_count": 38,
   "id": "e8085521",
   "metadata": {},
   "outputs": [
    {
     "data": {
      "text/plain": [
       "1020"
      ]
     },
     "execution_count": 38,
     "metadata": {},
     "output_type": "execute_result"
    }
   ],
   "source": [
    "len(iomat_file['valid'][0])"
   ]
  },
  {
   "cell_type": "code",
   "execution_count": 39,
   "id": "44407867",
   "metadata": {},
   "outputs": [
    {
     "data": {
      "text/plain": [
       "6149"
      ]
     },
     "execution_count": 39,
     "metadata": {},
     "output_type": "execute_result"
    }
   ],
   "source": [
    "len(iomat_file['tstid'][0])"
   ]
  },
  {
   "cell_type": "code",
   "execution_count": 40,
   "id": "d620a3db",
   "metadata": {},
   "outputs": [
    {
     "name": "stdout",
     "output_type": "stream",
     "text": [
      "Downloading https://thor.robots.ox.ac.uk/datasets/flowers-102/102flowers.tgz to datasets\\flowers-102\\train\\flowers-102\\102flowers.tgz\n"
     ]
    },
    {
     "name": "stderr",
     "output_type": "stream",
     "text": [
      "100%|███████████████████████████████████████████████████████████████| 344862509/344862509 [00:37<00:00, 9151111.31it/s]\n"
     ]
    },
    {
     "name": "stdout",
     "output_type": "stream",
     "text": [
      "Extracting datasets\\flowers-102\\train\\flowers-102\\102flowers.tgz to datasets\\flowers-102\\train\\flowers-102\n",
      "Downloading https://thor.robots.ox.ac.uk/datasets/flowers-102/imagelabels.mat to datasets\\flowers-102\\train\\flowers-102\\imagelabels.mat\n"
     ]
    },
    {
     "name": "stderr",
     "output_type": "stream",
     "text": [
      "100%|████████████████████████████████████████████████████████████████████████████| 502/502 [00:00<00:00, 251048.12it/s]\n"
     ]
    },
    {
     "name": "stdout",
     "output_type": "stream",
     "text": [
      "Downloading https://thor.robots.ox.ac.uk/datasets/flowers-102/setid.mat to datasets\\flowers-102\\train\\flowers-102\\setid.mat\n"
     ]
    },
    {
     "name": "stderr",
     "output_type": "stream",
     "text": [
      "100%|██████████████████████████████████████████████████████████████████████| 14989/14989 [00:00<00:00, 15007978.67it/s]\n"
     ]
    },
    {
     "data": {
      "text/plain": [
       "Dataset Flowers102\n",
       "    Number of datapoints: 1020\n",
       "    Root location: datasets/flowers-102/train/\n",
       "    split=train"
      ]
     },
     "execution_count": 40,
     "metadata": {},
     "output_type": "execute_result"
    }
   ],
   "source": [
    "torchvision.datasets.Flowers102('datasets/flowers-102/train/', split='train', download=True)"
   ]
  },
  {
   "cell_type": "code",
   "execution_count": 41,
   "id": "fdc9843d",
   "metadata": {},
   "outputs": [],
   "source": [
    "iomat_file = io.loadmat('datasets/flowers-102/train/flowers-102/setid.mat')"
   ]
  },
  {
   "cell_type": "code",
   "execution_count": 45,
   "id": "132141a7",
   "metadata": {},
   "outputs": [
    {
     "data": {
      "text/plain": [
       "1020"
      ]
     },
     "execution_count": 45,
     "metadata": {},
     "output_type": "execute_result"
    }
   ],
   "source": [
    "len(iomat_file['trnid'][0])"
   ]
  },
  {
   "cell_type": "code",
   "execution_count": 46,
   "id": "552e6b48",
   "metadata": {},
   "outputs": [
    {
     "data": {
      "text/plain": [
       "array([6765, 6755, 6768, ..., 8026, 8036, 8041], dtype=uint16)"
      ]
     },
     "execution_count": 46,
     "metadata": {},
     "output_type": "execute_result"
    }
   ],
   "source": [
    "iomat_file['trnid'][0]"
   ]
  },
  {
   "cell_type": "code",
   "execution_count": 53,
   "id": "9a42aca7",
   "metadata": {},
   "outputs": [
    {
     "data": {
      "text/plain": [
       "{'__header__': b'MATLAB 5.0 MAT-file, Platform: GLNX86, Created on: Thu Feb 19 17:38:58 2009',\n",
       " '__version__': '1.0',\n",
       " '__globals__': [],\n",
       " 'trnid': array([[6765, 6755, 6768, ..., 8026, 8036, 8041]], dtype=uint16),\n",
       " 'valid': array([[6773, 6767, 6739, ..., 8028, 8008, 8030]], dtype=uint16),\n",
       " 'tstid': array([[6734, 6735, 6737, ..., 8044, 8045, 8047]], dtype=uint16)}"
      ]
     },
     "execution_count": 53,
     "metadata": {},
     "output_type": "execute_result"
    }
   ],
   "source": [
    "iomat_file"
   ]
  },
  {
   "cell_type": "code",
   "execution_count": 68,
   "id": "12b26a6b",
   "metadata": {},
   "outputs": [],
   "source": [
    "import os"
   ]
  },
  {
   "cell_type": "code",
   "execution_count": 69,
   "id": "386b49db",
   "metadata": {},
   "outputs": [],
   "source": [
    "images = os.listdir('datasets/flowers-102/jpg/')"
   ]
  },
  {
   "cell_type": "code",
   "execution_count": 70,
   "id": "b5c1ad8f",
   "metadata": {},
   "outputs": [],
   "source": [
    "images = [images[idx-1] for idx in iomat_file['valid'][0]]"
   ]
  },
  {
   "cell_type": "code",
   "execution_count": 71,
   "id": "5c5f2890",
   "metadata": {},
   "outputs": [
    {
     "data": {
      "text/plain": [
       "['image_06773.jpg',\n",
       " 'image_06767.jpg',\n",
       " 'image_06739.jpg',\n",
       " 'image_06749.jpg',\n",
       " 'image_06763.jpg',\n",
       " 'image_06740.jpg',\n",
       " 'image_06761.jpg',\n",
       " 'image_06747.jpg',\n",
       " 'image_06738.jpg',\n",
       " 'image_06754.jpg',\n",
       " 'image_05138.jpg',\n",
       " 'image_05101.jpg',\n",
       " 'image_05114.jpg',\n",
       " 'image_05100.jpg',\n",
       " 'image_05123.jpg',\n",
       " 'image_05120.jpg',\n",
       " 'image_05118.jpg',\n",
       " 'image_05116.jpg',\n",
       " 'image_05132.jpg',\n",
       " 'image_05104.jpg',\n",
       " 'image_06630.jpg',\n",
       " 'image_06638.jpg',\n",
       " 'image_06647.jpg',\n",
       " 'image_06646.jpg',\n",
       " 'image_06612.jpg',\n",
       " 'image_06644.jpg',\n",
       " 'image_06640.jpg',\n",
       " 'image_06645.jpg',\n",
       " 'image_06639.jpg',\n",
       " 'image_06631.jpg',\n",
       " 'image_05663.jpg',\n",
       " 'image_05658.jpg',\n",
       " 'image_05678.jpg',\n",
       " 'image_05648.jpg',\n",
       " 'image_05654.jpg',\n",
       " 'image_05674.jpg',\n",
       " 'image_05672.jpg',\n",
       " 'image_05635.jpg',\n",
       " 'image_05651.jpg',\n",
       " 'image_05684.jpg',\n",
       " 'image_05211.jpg',\n",
       " 'image_05178.jpg',\n",
       " 'image_05168.jpg',\n",
       " 'image_05166.jpg',\n",
       " 'image_05185.jpg',\n",
       " 'image_05169.jpg',\n",
       " 'image_05204.jpg',\n",
       " 'image_05179.jpg',\n",
       " 'image_05192.jpg',\n",
       " 'image_05162.jpg',\n",
       " 'image_07181.jpg',\n",
       " 'image_08106.jpg',\n",
       " 'image_08111.jpg',\n",
       " 'image_07171.jpg',\n",
       " 'image_07196.jpg',\n",
       " 'image_07180.jpg',\n",
       " 'image_07166.jpg',\n",
       " 'image_07167.jpg',\n",
       " 'image_07184.jpg',\n",
       " 'image_07173.jpg',\n",
       " 'image_08101.jpg',\n",
       " 'image_07212.jpg',\n",
       " 'image_07213.jpg',\n",
       " 'image_07228.jpg',\n",
       " 'image_07231.jpg',\n",
       " 'image_07224.jpg',\n",
       " 'image_07230.jpg',\n",
       " 'image_07219.jpg',\n",
       " 'image_08104.jpg',\n",
       " 'image_07210.jpg',\n",
       " 'image_03298.jpg',\n",
       " 'image_03346.jpg',\n",
       " 'image_03339.jpg',\n",
       " 'image_03327.jpg',\n",
       " 'image_03295.jpg',\n",
       " 'image_03306.jpg',\n",
       " 'image_03297.jpg',\n",
       " 'image_03337.jpg',\n",
       " 'image_03310.jpg',\n",
       " 'image_03318.jpg',\n",
       " 'image_06411.jpg',\n",
       " 'image_06403.jpg',\n",
       " 'image_06427.jpg',\n",
       " 'image_06436.jpg',\n",
       " 'image_06405.jpg',\n",
       " 'image_06432.jpg',\n",
       " 'image_06434.jpg',\n",
       " 'image_06400.jpg',\n",
       " 'image_06428.jpg',\n",
       " 'image_06413.jpg',\n",
       " 'image_08093.jpg',\n",
       " 'image_07114.jpg',\n",
       " 'image_07093.jpg',\n",
       " 'image_07095.jpg',\n",
       " 'image_07112.jpg',\n",
       " 'image_07102.jpg',\n",
       " 'image_07104.jpg',\n",
       " 'image_08097.jpg',\n",
       " 'image_07099.jpg',\n",
       " 'image_08090.jpg',\n",
       " 'image_03128.jpg',\n",
       " 'image_03172.jpg',\n",
       " 'image_03104.jpg',\n",
       " 'image_03166.jpg',\n",
       " 'image_03171.jpg',\n",
       " 'image_03156.jpg',\n",
       " 'image_03169.jpg',\n",
       " 'image_03132.jpg',\n",
       " 'image_03142.jpg',\n",
       " 'image_03116.jpg',\n",
       " 'image_04076.jpg',\n",
       " 'image_04037.jpg',\n",
       " 'image_04062.jpg',\n",
       " 'image_04056.jpg',\n",
       " 'image_04057.jpg',\n",
       " 'image_04033.jpg',\n",
       " 'image_04075.jpg',\n",
       " 'image_04035.jpg',\n",
       " 'image_04073.jpg',\n",
       " 'image_04032.jpg',\n",
       " 'image_05791.jpg',\n",
       " 'image_05770.jpg',\n",
       " 'image_05767.jpg',\n",
       " 'image_05757.jpg',\n",
       " 'image_05773.jpg',\n",
       " 'image_05768.jpg',\n",
       " 'image_05774.jpg',\n",
       " 'image_05790.jpg',\n",
       " 'image_05785.jpg',\n",
       " 'image_05772.jpg',\n",
       " 'image_06049.jpg',\n",
       " 'image_06076.jpg',\n",
       " 'image_06059.jpg',\n",
       " 'image_06065.jpg',\n",
       " 'image_06055.jpg',\n",
       " 'image_06070.jpg',\n",
       " 'image_06051.jpg',\n",
       " 'image_06073.jpg',\n",
       " 'image_06060.jpg',\n",
       " 'image_06057.jpg',\n",
       " 'image_06349.jpg',\n",
       " 'image_06376.jpg',\n",
       " 'image_06390.jpg',\n",
       " 'image_06392.jpg',\n",
       " 'image_06393.jpg',\n",
       " 'image_06354.jpg',\n",
       " 'image_06378.jpg',\n",
       " 'image_06381.jpg',\n",
       " 'image_06388.jpg',\n",
       " 'image_06359.jpg',\n",
       " 'image_06669.jpg',\n",
       " 'image_06680.jpg',\n",
       " 'image_06686.jpg',\n",
       " 'image_06678.jpg',\n",
       " 'image_06679.jpg',\n",
       " 'image_06691.jpg',\n",
       " 'image_06662.jpg',\n",
       " 'image_06668.jpg',\n",
       " 'image_06675.jpg',\n",
       " 'image_06682.jpg',\n",
       " 'image_06775.jpg',\n",
       " 'image_06802.jpg',\n",
       " 'image_06795.jpg',\n",
       " 'image_06789.jpg',\n",
       " 'image_06792.jpg',\n",
       " 'image_06809.jpg',\n",
       " 'image_06783.jpg',\n",
       " 'image_06806.jpg',\n",
       " 'image_06780.jpg',\n",
       " 'image_06808.jpg',\n",
       " 'image_03836.jpg',\n",
       " 'image_03903.jpg',\n",
       " 'image_03852.jpg',\n",
       " 'image_03867.jpg',\n",
       " 'image_03912.jpg',\n",
       " 'image_03879.jpg',\n",
       " 'image_03854.jpg',\n",
       " 'image_03851.jpg',\n",
       " 'image_03886.jpg',\n",
       " 'image_03874.jpg',\n",
       " 'image_04267.jpg',\n",
       " 'image_04282.jpg',\n",
       " 'image_04261.jpg',\n",
       " 'image_04323.jpg',\n",
       " 'image_04258.jpg',\n",
       " 'image_04296.jpg',\n",
       " 'image_04260.jpg',\n",
       " 'image_04246.jpg',\n",
       " 'image_04256.jpg',\n",
       " 'image_04312.jpg',\n",
       " 'image_06165.jpg',\n",
       " 'image_06185.jpg',\n",
       " 'image_06196.jpg',\n",
       " 'image_06156.jpg',\n",
       " 'image_06190.jpg',\n",
       " 'image_06183.jpg',\n",
       " 'image_06155.jpg',\n",
       " 'image_06174.jpg',\n",
       " 'image_06157.jpg',\n",
       " 'image_06191.jpg',\n",
       " 'image_04944.jpg',\n",
       " 'image_04912.jpg',\n",
       " 'image_04952.jpg',\n",
       " 'image_04947.jpg',\n",
       " 'image_04950.jpg',\n",
       " 'image_04931.jpg',\n",
       " 'image_04910.jpg',\n",
       " 'image_04936.jpg',\n",
       " 'image_04905.jpg',\n",
       " 'image_04927.jpg',\n",
       " 'image_05388.jpg',\n",
       " 'image_05343.jpg',\n",
       " 'image_05373.jpg',\n",
       " 'image_05346.jpg',\n",
       " 'image_05354.jpg',\n",
       " 'image_05376.jpg',\n",
       " 'image_05366.jpg',\n",
       " 'image_05392.jpg',\n",
       " 'image_05359.jpg',\n",
       " 'image_05360.jpg',\n",
       " 'image_03420.jpg',\n",
       " 'image_03373.jpg',\n",
       " 'image_03448.jpg',\n",
       " 'image_03402.jpg',\n",
       " 'image_03449.jpg',\n",
       " 'image_03443.jpg',\n",
       " 'image_03371.jpg',\n",
       " 'image_03386.jpg',\n",
       " 'image_03406.jpg',\n",
       " 'image_03445.jpg',\n",
       " 'image_06814.jpg',\n",
       " 'image_06824.jpg',\n",
       " 'image_06825.jpg',\n",
       " 'image_06848.jpg',\n",
       " 'image_06819.jpg',\n",
       " 'image_06834.jpg',\n",
       " 'image_06817.jpg',\n",
       " 'image_06849.jpg',\n",
       " 'image_06840.jpg',\n",
       " 'image_06841.jpg',\n",
       " 'image_06580.jpg',\n",
       " 'image_06577.jpg',\n",
       " 'image_06591.jpg',\n",
       " 'image_06599.jpg',\n",
       " 'image_06573.jpg',\n",
       " 'image_06603.jpg',\n",
       " 'image_06585.jpg',\n",
       " 'image_06611.jpg',\n",
       " 'image_06594.jpg',\n",
       " 'image_06584.jpg',\n",
       " 'image_06520.jpg',\n",
       " 'image_06510.jpg',\n",
       " 'image_06518.jpg',\n",
       " 'image_06506.jpg',\n",
       " 'image_06519.jpg',\n",
       " 'image_06512.jpg',\n",
       " 'image_06505.jpg',\n",
       " 'image_06513.jpg',\n",
       " 'image_06509.jpg',\n",
       " 'image_06521.jpg',\n",
       " 'image_06854.jpg',\n",
       " 'image_06873.jpg',\n",
       " 'image_06852.jpg',\n",
       " 'image_06858.jpg',\n",
       " 'image_06860.jpg',\n",
       " 'image_06883.jpg',\n",
       " 'image_06865.jpg',\n",
       " 'image_06850.jpg',\n",
       " 'image_06859.jpg',\n",
       " 'image_06867.jpg',\n",
       " 'image_05266.jpg',\n",
       " 'image_05221.jpg',\n",
       " 'image_05276.jpg',\n",
       " 'image_05256.jpg',\n",
       " 'image_05235.jpg',\n",
       " 'image_05224.jpg',\n",
       " 'image_05242.jpg',\n",
       " 'image_05233.jpg',\n",
       " 'image_05265.jpg',\n",
       " 'image_05268.jpg',\n",
       " 'image_04089.jpg',\n",
       " 'image_04113.jpg',\n",
       " 'image_04128.jpg',\n",
       " 'image_04153.jpg',\n",
       " 'image_04088.jpg',\n",
       " 'image_04100.jpg',\n",
       " 'image_04094.jpg',\n",
       " 'image_04116.jpg',\n",
       " 'image_04110.jpg',\n",
       " 'image_04129.jpg',\n",
       " 'image_03524.jpg',\n",
       " 'image_03469.jpg',\n",
       " 'image_03501.jpg',\n",
       " 'image_03480.jpg',\n",
       " 'image_03483.jpg',\n",
       " 'image_03508.jpg',\n",
       " 'image_03521.jpg',\n",
       " 'image_03478.jpg',\n",
       " 'image_03464.jpg',\n",
       " 'image_03471.jpg',\n",
       " 'image_06893.jpg',\n",
       " 'image_08077.jpg',\n",
       " 'image_06904.jpg',\n",
       " 'image_06917.jpg',\n",
       " 'image_06912.jpg',\n",
       " 'image_06906.jpg',\n",
       " 'image_06894.jpg',\n",
       " 'image_06913.jpg',\n",
       " 'image_06907.jpg',\n",
       " 'image_08069.jpg',\n",
       " 'image_05593.jpg',\n",
       " 'image_05589.jpg',\n",
       " 'image_05600.jpg',\n",
       " 'image_05592.jpg',\n",
       " 'image_05622.jpg',\n",
       " 'image_05608.jpg',\n",
       " 'image_05603.jpg',\n",
       " 'image_05612.jpg',\n",
       " 'image_05621.jpg',\n",
       " 'image_05598.jpg',\n",
       " 'image_06456.jpg',\n",
       " 'image_06445.jpg',\n",
       " 'image_06441.jpg',\n",
       " 'image_06469.jpg',\n",
       " 'image_06465.jpg',\n",
       " 'image_06442.jpg',\n",
       " 'image_06467.jpg',\n",
       " 'image_06446.jpg',\n",
       " 'image_06451.jpg',\n",
       " 'image_06454.jpg',\n",
       " 'image_06934.jpg',\n",
       " 'image_06937.jpg',\n",
       " 'image_06945.jpg',\n",
       " 'image_06964.jpg',\n",
       " 'image_06939.jpg',\n",
       " 'image_06955.jpg',\n",
       " 'image_06948.jpg',\n",
       " 'image_06958.jpg',\n",
       " 'image_06943.jpg',\n",
       " 'image_06942.jpg',\n",
       " 'image_07002.jpg',\n",
       " 'image_06985.jpg',\n",
       " 'image_08087.jpg',\n",
       " 'image_06983.jpg',\n",
       " 'image_06971.jpg',\n",
       " 'image_06984.jpg',\n",
       " 'image_06996.jpg',\n",
       " 'image_07006.jpg',\n",
       " 'image_07003.jpg',\n",
       " 'image_06981.jpg',\n",
       " 'image_04337.jpg',\n",
       " 'image_04392.jpg',\n",
       " 'image_04374.jpg',\n",
       " 'image_04331.jpg',\n",
       " 'image_04366.jpg',\n",
       " 'image_04357.jpg',\n",
       " 'image_04350.jpg',\n",
       " 'image_04388.jpg',\n",
       " 'image_04361.jpg',\n",
       " 'image_04356.jpg',\n",
       " 'image_03780.jpg',\n",
       " 'image_03770.jpg',\n",
       " 'image_03821.jpg',\n",
       " 'image_07285.jpg',\n",
       " 'image_03814.jpg',\n",
       " 'image_03799.jpg',\n",
       " 'image_03744.jpg',\n",
       " 'image_03738.jpg',\n",
       " 'image_07288.jpg',\n",
       " 'image_03789.jpg',\n",
       " 'image_05805.jpg',\n",
       " 'image_05800.jpg',\n",
       " 'image_05814.jpg',\n",
       " 'image_05829.jpg',\n",
       " 'image_05824.jpg',\n",
       " 'image_05833.jpg',\n",
       " 'image_05845.jpg',\n",
       " 'image_05797.jpg',\n",
       " 'image_05834.jpg',\n",
       " 'image_05842.jpg',\n",
       " 'image_07041.jpg',\n",
       " 'image_07015.jpg',\n",
       " 'image_07011.jpg',\n",
       " 'image_07032.jpg',\n",
       " 'image_07012.jpg',\n",
       " 'image_07008.jpg',\n",
       " 'image_07029.jpg',\n",
       " 'image_07033.jpg',\n",
       " 'image_07028.jpg',\n",
       " 'image_07035.jpg',\n",
       " 'image_04560.jpg',\n",
       " 'image_04559.jpg',\n",
       " 'image_04567.jpg',\n",
       " 'image_04570.jpg',\n",
       " 'image_04616.jpg',\n",
       " 'image_04581.jpg',\n",
       " 'image_04568.jpg',\n",
       " 'image_04608.jpg',\n",
       " 'image_04571.jpg',\n",
       " 'image_04603.jpg',\n",
       " 'image_02242.jpg',\n",
       " 'image_02227.jpg',\n",
       " 'image_02259.jpg',\n",
       " 'image_02277.jpg',\n",
       " 'image_02250.jpg',\n",
       " 'image_02201.jpg',\n",
       " 'image_02239.jpg',\n",
       " 'image_02211.jpg',\n",
       " 'image_02215.jpg',\n",
       " 'image_02204.jpg',\n",
       " 'image_05719.jpg',\n",
       " 'image_05722.jpg',\n",
       " 'image_05698.jpg',\n",
       " 'image_05720.jpg',\n",
       " 'image_05691.jpg',\n",
       " 'image_05694.jpg',\n",
       " 'image_05741.jpg',\n",
       " 'image_05709.jpg',\n",
       " 'image_05730.jpg',\n",
       " 'image_05711.jpg',\n",
       " 'image_02350.jpg',\n",
       " 'image_02421.jpg',\n",
       " 'image_02375.jpg',\n",
       " 'image_02354.jpg',\n",
       " 'image_02378.jpg',\n",
       " 'image_02327.jpg',\n",
       " 'image_02326.jpg',\n",
       " 'image_02361.jpg',\n",
       " 'image_02398.jpg',\n",
       " 'image_02334.jpg',\n",
       " 'image_01521.jpg',\n",
       " 'image_01558.jpg',\n",
       " 'image_01580.jpg',\n",
       " 'image_01546.jpg',\n",
       " 'image_01542.jpg',\n",
       " 'image_01553.jpg',\n",
       " 'image_01522.jpg',\n",
       " 'image_01498.jpg',\n",
       " 'image_01571.jpg',\n",
       " 'image_01556.jpg',\n",
       " 'image_07154.jpg',\n",
       " 'image_07128.jpg',\n",
       " 'image_07129.jpg',\n",
       " 'image_07132.jpg',\n",
       " 'image_07141.jpg',\n",
       " 'image_07127.jpg',\n",
       " 'image_07139.jpg',\n",
       " 'image_07124.jpg',\n",
       " 'image_07133.jpg',\n",
       " 'image_07152.jpg',\n",
       " 'image_01035.jpg',\n",
       " 'image_01024.jpg',\n",
       " 'image_00974.jpg',\n",
       " 'image_01010.jpg',\n",
       " 'image_01089.jpg',\n",
       " 'image_00979.jpg',\n",
       " 'image_01049.jpg',\n",
       " 'image_01087.jpg',\n",
       " 'image_01111.jpg',\n",
       " 'image_00969.jpg',\n",
       " 'image_04988.jpg',\n",
       " 'image_05002.jpg',\n",
       " 'image_04969.jpg',\n",
       " 'image_04964.jpg',\n",
       " 'image_04961.jpg',\n",
       " 'image_04965.jpg',\n",
       " 'image_04991.jpg',\n",
       " 'image_05009.jpg',\n",
       " 'image_05019.jpg',\n",
       " 'image_04985.jpg',\n",
       " 'image_04640.jpg',\n",
       " 'image_04656.jpg',\n",
       " 'image_04670.jpg',\n",
       " 'image_04693.jpg',\n",
       " 'image_04628.jpg',\n",
       " 'image_04654.jpg',\n",
       " 'image_04682.jpg',\n",
       " 'image_04636.jpg',\n",
       " 'image_04679.jpg',\n",
       " 'image_04652.jpg',\n",
       " 'image_06200.jpg',\n",
       " 'image_06225.jpg',\n",
       " 'image_06204.jpg',\n",
       " 'image_06239.jpg',\n",
       " 'image_06217.jpg',\n",
       " 'image_06223.jpg',\n",
       " 'image_06224.jpg',\n",
       " 'image_06209.jpg',\n",
       " 'image_06241.jpg',\n",
       " 'image_06205.jpg',\n",
       " 'image_06543.jpg',\n",
       " 'image_06553.jpg',\n",
       " 'image_06562.jpg',\n",
       " 'image_06343.jpg',\n",
       " 'image_06564.jpg',\n",
       " 'image_06300.jpg',\n",
       " 'image_06534.jpg',\n",
       " 'image_06560.jpg',\n",
       " 'image_06307.jpg',\n",
       " 'image_06313.jpg',\n",
       " 'image_01335.jpg',\n",
       " 'image_01446.jpg',\n",
       " 'image_01452.jpg',\n",
       " 'image_03923.jpg',\n",
       " 'image_01445.jpg',\n",
       " 'image_03957.jpg',\n",
       " 'image_01486.jpg',\n",
       " 'image_01413.jpg',\n",
       " 'image_01459.jpg',\n",
       " 'image_01314.jpg',\n",
       " 'image_04175.jpg',\n",
       " 'image_04181.jpg',\n",
       " 'image_04179.jpg',\n",
       " 'image_04166.jpg',\n",
       " 'image_04207.jpg',\n",
       " 'image_04205.jpg',\n",
       " 'image_04170.jpg',\n",
       " 'image_04226.jpg',\n",
       " 'image_04186.jpg',\n",
       " 'image_04196.jpg',\n",
       " 'image_03709.jpg',\n",
       " 'image_03658.jpg',\n",
       " 'image_03688.jpg',\n",
       " 'image_03659.jpg',\n",
       " 'image_03690.jpg',\n",
       " 'image_03700.jpg',\n",
       " 'image_03731.jpg',\n",
       " 'image_03714.jpg',\n",
       " 'image_03708.jpg',\n",
       " 'image_03675.jpg',\n",
       " 'image_05413.jpg',\n",
       " 'image_05441.jpg',\n",
       " 'image_05410.jpg',\n",
       " 'image_05447.jpg',\n",
       " 'image_05404.jpg',\n",
       " 'image_05446.jpg',\n",
       " 'image_05456.jpg',\n",
       " 'image_05444.jpg',\n",
       " 'image_05449.jpg',\n",
       " 'image_05424.jpg',\n",
       " 'image_04763.jpg',\n",
       " 'image_04754.jpg',\n",
       " 'image_04719.jpg',\n",
       " 'image_04698.jpg',\n",
       " 'image_04732.jpg',\n",
       " 'image_04738.jpg',\n",
       " 'image_04761.jpg',\n",
       " 'image_04721.jpg',\n",
       " 'image_04743.jpg',\n",
       " 'image_04696.jpg',\n",
       " 'image_02830.jpg',\n",
       " 'image_02841.jpg',\n",
       " 'image_02803.jpg',\n",
       " 'image_02782.jpg',\n",
       " 'image_02753.jpg',\n",
       " 'image_02846.jpg',\n",
       " 'image_02854.jpg',\n",
       " 'image_02833.jpg',\n",
       " 'image_02834.jpg',\n",
       " 'image_02802.jpg',\n",
       " 'image_07256.jpg',\n",
       " 'image_08121.jpg',\n",
       " 'image_07239.jpg',\n",
       " 'image_08133.jpg',\n",
       " 'image_07253.jpg',\n",
       " 'image_07252.jpg',\n",
       " 'image_08138.jpg',\n",
       " 'image_08119.jpg',\n",
       " 'image_07251.jpg',\n",
       " 'image_07254.jpg',\n",
       " 'image_02709.jpg',\n",
       " 'image_02738.jpg',\n",
       " 'image_02730.jpg',\n",
       " 'image_02745.jpg',\n",
       " 'image_02696.jpg',\n",
       " 'image_02694.jpg',\n",
       " 'image_02672.jpg',\n",
       " 'image_02720.jpg',\n",
       " 'image_02678.jpg',\n",
       " 'image_02642.jpg',\n",
       " 'image_05064.jpg',\n",
       " 'image_05085.jpg',\n",
       " 'image_05022.jpg',\n",
       " 'image_05028.jpg',\n",
       " 'image_05069.jpg',\n",
       " 'image_05055.jpg',\n",
       " 'image_05065.jpg',\n",
       " 'image_05077.jpg',\n",
       " 'image_05084.jpg',\n",
       " 'image_05045.jpg',\n",
       " 'image_02987.jpg',\n",
       " 'image_03025.jpg',\n",
       " 'image_03027.jpg',\n",
       " 'image_02995.jpg',\n",
       " 'image_02959.jpg',\n",
       " 'image_02934.jpg',\n",
       " 'image_02956.jpg',\n",
       " 'image_03000.jpg',\n",
       " 'image_02966.jpg',\n",
       " 'image_03013.jpg',\n",
       " 'image_06281.jpg',\n",
       " 'image_06249.jpg',\n",
       " 'image_06274.jpg',\n",
       " 'image_06255.jpg',\n",
       " 'image_06276.jpg',\n",
       " 'image_06293.jpg',\n",
       " 'image_06268.jpg',\n",
       " 'image_06257.jpg',\n",
       " 'image_06253.jpg',\n",
       " 'image_06279.jpg',\n",
       " 'image_08179.jpg',\n",
       " 'image_08174.jpg',\n",
       " 'image_07278.jpg',\n",
       " 'image_08157.jpg',\n",
       " 'image_08185.jpg',\n",
       " 'image_08187.jpg',\n",
       " 'image_07280.jpg',\n",
       " 'image_08176.jpg',\n",
       " 'image_08182.jpg',\n",
       " 'image_08173.jpg',\n",
       " 'image_05902.jpg',\n",
       " 'image_05858.jpg',\n",
       " 'image_05898.jpg',\n",
       " 'image_05886.jpg',\n",
       " 'image_05901.jpg',\n",
       " 'image_05868.jpg',\n",
       " 'image_05895.jpg',\n",
       " 'image_05855.jpg',\n",
       " 'image_05860.jpg',\n",
       " 'image_05880.jpg',\n",
       " 'image_06098.jpg',\n",
       " 'image_06126.jpg',\n",
       " 'image_06103.jpg',\n",
       " 'image_06145.jpg',\n",
       " 'image_06124.jpg',\n",
       " 'image_06102.jpg',\n",
       " 'image_06097.jpg',\n",
       " 'image_06111.jpg',\n",
       " 'image_06128.jpg',\n",
       " 'image_06108.jpg',\n",
       " 'image_03234.jpg',\n",
       " 'image_03225.jpg',\n",
       " 'image_03219.jpg',\n",
       " 'image_03272.jpg',\n",
       " 'image_03281.jpg',\n",
       " 'image_03276.jpg',\n",
       " 'image_03248.jpg',\n",
       " 'image_03202.jpg',\n",
       " 'image_03194.jpg',\n",
       " 'image_03191.jpg',\n",
       " 'image_05582.jpg',\n",
       " 'image_05529.jpg',\n",
       " 'image_05550.jpg',\n",
       " 'image_05583.jpg',\n",
       " 'image_05524.jpg',\n",
       " 'image_05568.jpg',\n",
       " 'image_05579.jpg',\n",
       " 'image_05533.jpg',\n",
       " 'image_05530.jpg',\n",
       " 'image_05541.jpg',\n",
       " 'image_07051.jpg',\n",
       " 'image_07074.jpg',\n",
       " 'image_07071.jpg',\n",
       " 'image_07083.jpg',\n",
       " 'image_07053.jpg',\n",
       " 'image_07056.jpg',\n",
       " 'image_07077.jpg',\n",
       " 'image_07070.jpg',\n",
       " 'image_07073.jpg',\n",
       " 'image_07054.jpg',\n",
       " 'image_05956.jpg',\n",
       " 'image_05954.jpg',\n",
       " 'image_05934.jpg',\n",
       " 'image_05905.jpg',\n",
       " 'image_05926.jpg',\n",
       " 'image_05945.jpg',\n",
       " 'image_05909.jpg',\n",
       " 'image_05940.jpg',\n",
       " 'image_05913.jpg',\n",
       " 'image_05921.jpg',\n",
       " 'image_05958.jpg',\n",
       " 'image_06004.jpg',\n",
       " 'image_05993.jpg',\n",
       " 'image_05971.jpg',\n",
       " 'image_05990.jpg',\n",
       " 'image_05975.jpg',\n",
       " 'image_05989.jpg',\n",
       " 'image_06006.jpg',\n",
       " 'image_05977.jpg',\n",
       " 'image_05962.jpg',\n",
       " 'image_05291.jpg',\n",
       " 'image_05303.jpg',\n",
       " 'image_05323.jpg',\n",
       " 'image_05285.jpg',\n",
       " 'image_05293.jpg',\n",
       " 'image_05327.jpg',\n",
       " 'image_05339.jpg',\n",
       " 'image_05317.jpg',\n",
       " 'image_05320.jpg',\n",
       " 'image_05305.jpg',\n",
       " 'image_04534.jpg',\n",
       " 'image_04490.jpg',\n",
       " 'image_04540.jpg',\n",
       " 'image_04529.jpg',\n",
       " 'image_04487.jpg',\n",
       " 'image_04489.jpg',\n",
       " 'image_04512.jpg',\n",
       " 'image_04516.jpg',\n",
       " 'image_04515.jpg',\n",
       " 'image_04498.jpg',\n",
       " 'image_03581.jpg',\n",
       " 'image_03568.jpg',\n",
       " 'image_03561.jpg',\n",
       " 'image_03564.jpg',\n",
       " 'image_03570.jpg',\n",
       " 'image_03605.jpg',\n",
       " 'image_03601.jpg',\n",
       " 'image_03583.jpg',\n",
       " 'image_03600.jpg',\n",
       " 'image_03566.jpg',\n",
       " 'image_00285.jpg',\n",
       " 'image_00255.jpg',\n",
       " 'image_00366.jpg',\n",
       " 'image_00364.jpg',\n",
       " 'image_00433.jpg',\n",
       " 'image_00381.jpg',\n",
       " 'image_00269.jpg',\n",
       " 'image_00400.jpg',\n",
       " 'image_00304.jpg',\n",
       " 'image_00291.jpg',\n",
       " 'image_01147.jpg',\n",
       " 'image_01251.jpg',\n",
       " 'image_01196.jpg',\n",
       " 'image_01261.jpg',\n",
       " 'image_01271.jpg',\n",
       " 'image_01159.jpg',\n",
       " 'image_01190.jpg',\n",
       " 'image_01212.jpg',\n",
       " 'image_01152.jpg',\n",
       " 'image_01162.jpg',\n",
       " 'image_02158.jpg',\n",
       " 'image_02163.jpg',\n",
       " 'image_02159.jpg',\n",
       " 'image_02110.jpg',\n",
       " 'image_02098.jpg',\n",
       " 'image_02144.jpg',\n",
       " 'image_02185.jpg',\n",
       " 'image_02095.jpg',\n",
       " 'image_02179.jpg',\n",
       " 'image_02160.jpg',\n",
       " 'image_02477.jpg',\n",
       " 'image_02506.jpg',\n",
       " 'image_02492.jpg',\n",
       " 'image_02468.jpg',\n",
       " 'image_02543.jpg',\n",
       " 'image_02511.jpg',\n",
       " 'image_02514.jpg',\n",
       " 'image_02461.jpg',\n",
       " 'image_02466.jpg',\n",
       " 'image_02550.jpg',\n",
       " 'image_00083.jpg',\n",
       " 'image_00038.jpg',\n",
       " 'image_00212.jpg',\n",
       " 'image_00082.jpg',\n",
       " 'image_00169.jpg',\n",
       " 'image_00222.jpg',\n",
       " 'image_00094.jpg',\n",
       " 'image_00023.jpg',\n",
       " 'image_00017.jpg',\n",
       " 'image_00055.jpg',\n",
       " 'image_01864.jpg',\n",
       " 'image_01929.jpg',\n",
       " 'image_01835.jpg',\n",
       " 'image_01886.jpg',\n",
       " 'image_01937.jpg',\n",
       " 'image_01907.jpg',\n",
       " 'image_01847.jpg',\n",
       " 'image_01948.jpg',\n",
       " 'image_01934.jpg',\n",
       " 'image_01963.jpg',\n",
       " 'image_06716.jpg',\n",
       " 'image_06708.jpg',\n",
       " 'image_06713.jpg',\n",
       " 'image_06724.jpg',\n",
       " 'image_06732.jpg',\n",
       " 'image_06719.jpg',\n",
       " 'image_06695.jpg',\n",
       " 'image_06731.jpg',\n",
       " 'image_06696.jpg',\n",
       " 'image_06709.jpg',\n",
       " 'image_02011.jpg',\n",
       " 'image_02060.jpg',\n",
       " 'image_01993.jpg',\n",
       " 'image_02020.jpg',\n",
       " 'image_02055.jpg',\n",
       " 'image_01988.jpg',\n",
       " 'image_02019.jpg',\n",
       " 'image_02066.jpg',\n",
       " 'image_02058.jpg',\n",
       " 'image_02007.jpg',\n",
       " 'image_00902.jpg',\n",
       " 'image_00911.jpg',\n",
       " 'image_00843.jpg',\n",
       " 'image_00832.jpg',\n",
       " 'image_00795.jpg',\n",
       " 'image_00825.jpg',\n",
       " 'image_00794.jpg',\n",
       " 'image_00839.jpg',\n",
       " 'image_00881.jpg',\n",
       " 'image_00874.jpg',\n",
       " 'image_01608.jpg',\n",
       " 'image_01618.jpg',\n",
       " 'image_01656.jpg',\n",
       " 'image_01657.jpg',\n",
       " 'image_01637.jpg',\n",
       " 'image_01688.jpg',\n",
       " 'image_01683.jpg',\n",
       " 'image_01695.jpg',\n",
       " 'image_01644.jpg',\n",
       " 'image_01638.jpg',\n",
       " 'image_01797.jpg',\n",
       " 'image_01796.jpg',\n",
       " 'image_01719.jpg',\n",
       " 'image_01747.jpg',\n",
       " 'image_01763.jpg',\n",
       " 'image_01781.jpg',\n",
       " 'image_01789.jpg',\n",
       " 'image_01776.jpg',\n",
       " 'image_01742.jpg',\n",
       " 'image_01751.jpg',\n",
       " 'image_02632.jpg',\n",
       " 'image_02566.jpg',\n",
       " 'image_02603.jpg',\n",
       " 'image_02560.jpg',\n",
       " 'image_02577.jpg',\n",
       " 'image_02581.jpg',\n",
       " 'image_02630.jpg',\n",
       " 'image_02634.jpg',\n",
       " 'image_02608.jpg',\n",
       " 'image_02571.jpg',\n",
       " 'image_04782.jpg',\n",
       " 'image_04784.jpg',\n",
       " 'image_04777.jpg',\n",
       " 'image_04825.jpg',\n",
       " 'image_04799.jpg',\n",
       " 'image_04816.jpg',\n",
       " 'image_04767.jpg',\n",
       " 'image_04789.jpg',\n",
       " 'image_04778.jpg',\n",
       " 'image_04774.jpg',\n",
       " 'image_02867.jpg',\n",
       " 'image_02888.jpg',\n",
       " 'image_02892.jpg',\n",
       " 'image_02909.jpg',\n",
       " 'image_02906.jpg',\n",
       " 'image_02912.jpg',\n",
       " 'image_02877.jpg',\n",
       " 'image_02873.jpg',\n",
       " 'image_02915.jpg',\n",
       " 'image_02910.jpg',\n",
       " 'image_05463.jpg',\n",
       " 'image_05465.jpg',\n",
       " 'image_05478.jpg',\n",
       " 'image_05506.jpg',\n",
       " 'image_05507.jpg',\n",
       " 'image_05500.jpg',\n",
       " 'image_05516.jpg',\n",
       " 'image_05511.jpg',\n",
       " 'image_05508.jpg',\n",
       " 'image_05466.jpg',\n",
       " 'image_00524.jpg',\n",
       " 'image_00570.jpg',\n",
       " 'image_00468.jpg',\n",
       " 'image_00578.jpg',\n",
       " 'image_00516.jpg',\n",
       " 'image_00495.jpg',\n",
       " 'image_00498.jpg',\n",
       " 'image_00479.jpg',\n",
       " 'image_00543.jpg',\n",
       " 'image_00549.jpg',\n",
       " 'image_00741.jpg',\n",
       " 'image_00706.jpg',\n",
       " 'image_00763.jpg',\n",
       " 'image_00607.jpg',\n",
       " 'image_00685.jpg',\n",
       " 'image_00665.jpg',\n",
       " 'image_00692.jpg',\n",
       " 'image_00628.jpg',\n",
       " 'image_00640.jpg',\n",
       " 'image_00719.jpg',\n",
       " 'image_04408.jpg',\n",
       " 'image_04479.jpg',\n",
       " 'image_04405.jpg',\n",
       " 'image_04440.jpg',\n",
       " 'image_04429.jpg',\n",
       " 'image_04467.jpg',\n",
       " 'image_04453.jpg',\n",
       " 'image_04417.jpg',\n",
       " 'image_04403.jpg',\n",
       " 'image_04469.jpg',\n",
       " 'image_04868.jpg',\n",
       " 'image_04830.jpg',\n",
       " 'image_04875.jpg',\n",
       " 'image_08059.jpg',\n",
       " 'image_04879.jpg',\n",
       " 'image_04835.jpg',\n",
       " 'image_08061.jpg',\n",
       " 'image_04831.jpg',\n",
       " 'image_04845.jpg',\n",
       " 'image_04847.jpg',\n",
       " 'image_03052.jpg',\n",
       " 'image_03033.jpg',\n",
       " 'image_03086.jpg',\n",
       " 'image_03029.jpg',\n",
       " 'image_03067.jpg',\n",
       " 'image_03048.jpg',\n",
       " 'image_03079.jpg',\n",
       " 'image_03064.jpg',\n",
       " 'image_03065.jpg',\n",
       " 'image_03094.jpg',\n",
       " 'image_06025.jpg',\n",
       " 'image_06043.jpg',\n",
       " 'image_08113.jpg',\n",
       " 'image_06026.jpg',\n",
       " 'image_06039.jpg',\n",
       " 'image_06042.jpg',\n",
       " 'image_06048.jpg',\n",
       " 'image_06023.jpg',\n",
       " 'image_08116.jpg',\n",
       " 'image_06019.jpg',\n",
       " 'image_07436.jpg',\n",
       " 'image_07421.jpg',\n",
       " 'image_07336.jpg',\n",
       " 'image_07398.jpg',\n",
       " 'image_07453.jpg',\n",
       " 'image_07334.jpg',\n",
       " 'image_07418.jpg',\n",
       " 'image_07338.jpg',\n",
       " 'image_07386.jpg',\n",
       " 'image_07325.jpg',\n",
       " 'image_07491.jpg',\n",
       " 'image_07512.jpg',\n",
       " 'image_07478.jpg',\n",
       " 'image_07494.jpg',\n",
       " 'image_07520.jpg',\n",
       " 'image_07523.jpg',\n",
       " 'image_07503.jpg',\n",
       " 'image_07513.jpg',\n",
       " 'image_07495.jpg',\n",
       " 'image_07479.jpg',\n",
       " 'image_07638.jpg',\n",
       " 'image_07656.jpg',\n",
       " 'image_07674.jpg',\n",
       " 'image_07637.jpg',\n",
       " 'image_07644.jpg',\n",
       " 'image_07624.jpg',\n",
       " 'image_07654.jpg',\n",
       " 'image_07603.jpg',\n",
       " 'image_07597.jpg',\n",
       " 'image_07643.jpg',\n",
       " 'image_07734.jpg',\n",
       " 'image_07694.jpg',\n",
       " 'image_07715.jpg',\n",
       " 'image_07692.jpg',\n",
       " 'image_07743.jpg',\n",
       " 'image_07701.jpg',\n",
       " 'image_07724.jpg',\n",
       " 'image_07691.jpg',\n",
       " 'image_07700.jpg',\n",
       " 'image_07731.jpg',\n",
       " 'image_07820.jpg',\n",
       " 'image_07811.jpg',\n",
       " 'image_07804.jpg',\n",
       " 'image_07806.jpg',\n",
       " 'image_07767.jpg',\n",
       " 'image_07753.jpg',\n",
       " 'image_07824.jpg',\n",
       " 'image_07828.jpg',\n",
       " 'image_07799.jpg',\n",
       " 'image_07786.jpg',\n",
       " 'image_07849.jpg',\n",
       " 'image_07835.jpg',\n",
       " 'image_07850.jpg',\n",
       " 'image_07834.jpg',\n",
       " 'image_07833.jpg',\n",
       " 'image_07842.jpg',\n",
       " 'image_07877.jpg',\n",
       " 'image_07861.jpg',\n",
       " 'image_07883.jpg',\n",
       " 'image_07857.jpg',\n",
       " 'image_07906.jpg',\n",
       " 'image_07927.jpg',\n",
       " 'image_07932.jpg',\n",
       " 'image_07935.jpg',\n",
       " 'image_07907.jpg',\n",
       " 'image_07917.jpg',\n",
       " 'image_07915.jpg',\n",
       " 'image_07902.jpg',\n",
       " 'image_07931.jpg',\n",
       " 'image_07928.jpg',\n",
       " ...]"
      ]
     },
     "execution_count": 71,
     "metadata": {},
     "output_type": "execute_result"
    }
   ],
   "source": [
    "images"
   ]
  },
  {
   "cell_type": "code",
   "execution_count": 72,
   "id": "2be9373a",
   "metadata": {},
   "outputs": [],
   "source": [
    "from torchmetrics.classification import Accuracy, AUROC, F1Score, Recall, Precision"
   ]
  },
  {
   "cell_type": "code",
   "execution_count": 82,
   "id": "a140dbeb",
   "metadata": {},
   "outputs": [],
   "source": [
    "# metrics\n",
    "acc = Accuracy(task='multiclass', num_classes=102, average='micro')\n",
    "auroc = AUROC(task='multiclass', num_classes=102, average='macro')\n",
    "f1 = F1Score(task='multiclass', num_classes=102, average='micro')\n",
    "recall = Recall(task='multiclass', num_classes=102, average='micro')\n",
    "precision = Precision(task='multiclass', num_classes=102, average='micro')"
   ]
  },
  {
   "cell_type": "code",
   "execution_count": 73,
   "id": "2778f23e",
   "metadata": {},
   "outputs": [],
   "source": [
    "import torch"
   ]
  },
  {
   "cell_type": "code",
   "execution_count": 75,
   "id": "e2280102",
   "metadata": {},
   "outputs": [],
   "source": [
    "test = torch.nn.CrossEntropyLoss()"
   ]
  },
  {
   "cell_type": "code",
   "execution_count": 80,
   "id": "5e0d1945",
   "metadata": {},
   "outputs": [
    {
     "ename": "RuntimeError",
     "evalue": "expected scalar type Long but found Float",
     "output_type": "error",
     "traceback": [
      "\u001b[1;31m---------------------------------------------------------------------------\u001b[0m",
      "\u001b[1;31mRuntimeError\u001b[0m                              Traceback (most recent call last)",
      "Cell \u001b[1;32mIn[80], line 1\u001b[0m\n\u001b[1;32m----> 1\u001b[0m \u001b[43mtest\u001b[49m\u001b[43m(\u001b[49m\u001b[43mtorch\u001b[49m\u001b[38;5;241;43m.\u001b[39;49m\u001b[43mTensor\u001b[49m\u001b[43m(\u001b[49m\u001b[43m[\u001b[49m\u001b[43m[\u001b[49m\u001b[38;5;241;43m0.1\u001b[39;49m\u001b[43m,\u001b[49m\u001b[43m \u001b[49m\u001b[38;5;241;43m0.7\u001b[39;49m\u001b[43m,\u001b[49m\u001b[43m \u001b[49m\u001b[38;5;241;43m0.2\u001b[39;49m\u001b[43m]\u001b[49m\u001b[43m]\u001b[49m\u001b[43m)\u001b[49m\u001b[43m,\u001b[49m\u001b[43m \u001b[49m\u001b[43mtorch\u001b[49m\u001b[38;5;241;43m.\u001b[39;49m\u001b[43mTensor\u001b[49m\u001b[43m(\u001b[49m\u001b[43m[\u001b[49m\u001b[38;5;241;43m0.\u001b[39;49m\u001b[43m]\u001b[49m\u001b[43m)\u001b[49m\u001b[43m)\u001b[49m\n",
      "File \u001b[1;32m~\\AppData\\Local\\anaconda3\\envs\\workspace\\lib\\site-packages\\torch\\nn\\modules\\module.py:1511\u001b[0m, in \u001b[0;36mModule._wrapped_call_impl\u001b[1;34m(self, *args, **kwargs)\u001b[0m\n\u001b[0;32m   1509\u001b[0m     \u001b[38;5;28;01mreturn\u001b[39;00m \u001b[38;5;28mself\u001b[39m\u001b[38;5;241m.\u001b[39m_compiled_call_impl(\u001b[38;5;241m*\u001b[39margs, \u001b[38;5;241m*\u001b[39m\u001b[38;5;241m*\u001b[39mkwargs)  \u001b[38;5;66;03m# type: ignore[misc]\u001b[39;00m\n\u001b[0;32m   1510\u001b[0m \u001b[38;5;28;01melse\u001b[39;00m:\n\u001b[1;32m-> 1511\u001b[0m     \u001b[38;5;28;01mreturn\u001b[39;00m \u001b[38;5;28;43mself\u001b[39;49m\u001b[38;5;241;43m.\u001b[39;49m\u001b[43m_call_impl\u001b[49m\u001b[43m(\u001b[49m\u001b[38;5;241;43m*\u001b[39;49m\u001b[43margs\u001b[49m\u001b[43m,\u001b[49m\u001b[43m \u001b[49m\u001b[38;5;241;43m*\u001b[39;49m\u001b[38;5;241;43m*\u001b[39;49m\u001b[43mkwargs\u001b[49m\u001b[43m)\u001b[49m\n",
      "File \u001b[1;32m~\\AppData\\Local\\anaconda3\\envs\\workspace\\lib\\site-packages\\torch\\nn\\modules\\module.py:1520\u001b[0m, in \u001b[0;36mModule._call_impl\u001b[1;34m(self, *args, **kwargs)\u001b[0m\n\u001b[0;32m   1515\u001b[0m \u001b[38;5;66;03m# If we don't have any hooks, we want to skip the rest of the logic in\u001b[39;00m\n\u001b[0;32m   1516\u001b[0m \u001b[38;5;66;03m# this function, and just call forward.\u001b[39;00m\n\u001b[0;32m   1517\u001b[0m \u001b[38;5;28;01mif\u001b[39;00m \u001b[38;5;129;01mnot\u001b[39;00m (\u001b[38;5;28mself\u001b[39m\u001b[38;5;241m.\u001b[39m_backward_hooks \u001b[38;5;129;01mor\u001b[39;00m \u001b[38;5;28mself\u001b[39m\u001b[38;5;241m.\u001b[39m_backward_pre_hooks \u001b[38;5;129;01mor\u001b[39;00m \u001b[38;5;28mself\u001b[39m\u001b[38;5;241m.\u001b[39m_forward_hooks \u001b[38;5;129;01mor\u001b[39;00m \u001b[38;5;28mself\u001b[39m\u001b[38;5;241m.\u001b[39m_forward_pre_hooks\n\u001b[0;32m   1518\u001b[0m         \u001b[38;5;129;01mor\u001b[39;00m _global_backward_pre_hooks \u001b[38;5;129;01mor\u001b[39;00m _global_backward_hooks\n\u001b[0;32m   1519\u001b[0m         \u001b[38;5;129;01mor\u001b[39;00m _global_forward_hooks \u001b[38;5;129;01mor\u001b[39;00m _global_forward_pre_hooks):\n\u001b[1;32m-> 1520\u001b[0m     \u001b[38;5;28;01mreturn\u001b[39;00m \u001b[43mforward_call\u001b[49m\u001b[43m(\u001b[49m\u001b[38;5;241;43m*\u001b[39;49m\u001b[43margs\u001b[49m\u001b[43m,\u001b[49m\u001b[43m \u001b[49m\u001b[38;5;241;43m*\u001b[39;49m\u001b[38;5;241;43m*\u001b[39;49m\u001b[43mkwargs\u001b[49m\u001b[43m)\u001b[49m\n\u001b[0;32m   1522\u001b[0m \u001b[38;5;28;01mtry\u001b[39;00m:\n\u001b[0;32m   1523\u001b[0m     result \u001b[38;5;241m=\u001b[39m \u001b[38;5;28;01mNone\u001b[39;00m\n",
      "File \u001b[1;32m~\\AppData\\Local\\anaconda3\\envs\\workspace\\lib\\site-packages\\torch\\nn\\modules\\loss.py:1179\u001b[0m, in \u001b[0;36mCrossEntropyLoss.forward\u001b[1;34m(self, input, target)\u001b[0m\n\u001b[0;32m   1178\u001b[0m \u001b[38;5;28;01mdef\u001b[39;00m \u001b[38;5;21mforward\u001b[39m(\u001b[38;5;28mself\u001b[39m, \u001b[38;5;28minput\u001b[39m: Tensor, target: Tensor) \u001b[38;5;241m-\u001b[39m\u001b[38;5;241m>\u001b[39m Tensor:\n\u001b[1;32m-> 1179\u001b[0m     \u001b[38;5;28;01mreturn\u001b[39;00m \u001b[43mF\u001b[49m\u001b[38;5;241;43m.\u001b[39;49m\u001b[43mcross_entropy\u001b[49m\u001b[43m(\u001b[49m\u001b[38;5;28;43minput\u001b[39;49m\u001b[43m,\u001b[49m\u001b[43m \u001b[49m\u001b[43mtarget\u001b[49m\u001b[43m,\u001b[49m\u001b[43m \u001b[49m\u001b[43mweight\u001b[49m\u001b[38;5;241;43m=\u001b[39;49m\u001b[38;5;28;43mself\u001b[39;49m\u001b[38;5;241;43m.\u001b[39;49m\u001b[43mweight\u001b[49m\u001b[43m,\u001b[49m\n\u001b[0;32m   1180\u001b[0m \u001b[43m                           \u001b[49m\u001b[43mignore_index\u001b[49m\u001b[38;5;241;43m=\u001b[39;49m\u001b[38;5;28;43mself\u001b[39;49m\u001b[38;5;241;43m.\u001b[39;49m\u001b[43mignore_index\u001b[49m\u001b[43m,\u001b[49m\u001b[43m \u001b[49m\u001b[43mreduction\u001b[49m\u001b[38;5;241;43m=\u001b[39;49m\u001b[38;5;28;43mself\u001b[39;49m\u001b[38;5;241;43m.\u001b[39;49m\u001b[43mreduction\u001b[49m\u001b[43m,\u001b[49m\n\u001b[0;32m   1181\u001b[0m \u001b[43m                           \u001b[49m\u001b[43mlabel_smoothing\u001b[49m\u001b[38;5;241;43m=\u001b[39;49m\u001b[38;5;28;43mself\u001b[39;49m\u001b[38;5;241;43m.\u001b[39;49m\u001b[43mlabel_smoothing\u001b[49m\u001b[43m)\u001b[49m\n",
      "File \u001b[1;32m~\\AppData\\Local\\anaconda3\\envs\\workspace\\lib\\site-packages\\torch\\nn\\functional.py:3059\u001b[0m, in \u001b[0;36mcross_entropy\u001b[1;34m(input, target, weight, size_average, ignore_index, reduce, reduction, label_smoothing)\u001b[0m\n\u001b[0;32m   3057\u001b[0m \u001b[38;5;28;01mif\u001b[39;00m size_average \u001b[38;5;129;01mis\u001b[39;00m \u001b[38;5;129;01mnot\u001b[39;00m \u001b[38;5;28;01mNone\u001b[39;00m \u001b[38;5;129;01mor\u001b[39;00m reduce \u001b[38;5;129;01mis\u001b[39;00m \u001b[38;5;129;01mnot\u001b[39;00m \u001b[38;5;28;01mNone\u001b[39;00m:\n\u001b[0;32m   3058\u001b[0m     reduction \u001b[38;5;241m=\u001b[39m _Reduction\u001b[38;5;241m.\u001b[39mlegacy_get_string(size_average, reduce)\n\u001b[1;32m-> 3059\u001b[0m \u001b[38;5;28;01mreturn\u001b[39;00m \u001b[43mtorch\u001b[49m\u001b[38;5;241;43m.\u001b[39;49m\u001b[43m_C\u001b[49m\u001b[38;5;241;43m.\u001b[39;49m\u001b[43m_nn\u001b[49m\u001b[38;5;241;43m.\u001b[39;49m\u001b[43mcross_entropy_loss\u001b[49m\u001b[43m(\u001b[49m\u001b[38;5;28;43minput\u001b[39;49m\u001b[43m,\u001b[49m\u001b[43m \u001b[49m\u001b[43mtarget\u001b[49m\u001b[43m,\u001b[49m\u001b[43m \u001b[49m\u001b[43mweight\u001b[49m\u001b[43m,\u001b[49m\u001b[43m \u001b[49m\u001b[43m_Reduction\u001b[49m\u001b[38;5;241;43m.\u001b[39;49m\u001b[43mget_enum\u001b[49m\u001b[43m(\u001b[49m\u001b[43mreduction\u001b[49m\u001b[43m)\u001b[49m\u001b[43m,\u001b[49m\u001b[43m \u001b[49m\u001b[43mignore_index\u001b[49m\u001b[43m,\u001b[49m\u001b[43m \u001b[49m\u001b[43mlabel_smoothing\u001b[49m\u001b[43m)\u001b[49m\n",
      "\u001b[1;31mRuntimeError\u001b[0m: expected scalar type Long but found Float"
     ]
    }
   ],
   "source": [
    "test(torch.Tensor([[0.1, 0.7, 0.2]]), torch.Tensor([0.]))"
   ]
  },
  {
   "cell_type": "code",
   "execution_count": null,
   "id": "21d6815f",
   "metadata": {},
   "outputs": [],
   "source": []
  }
 ],
 "metadata": {
  "kernelspec": {
   "display_name": "work",
   "language": "python",
   "name": "workspace"
  },
  "language_info": {
   "codemirror_mode": {
    "name": "ipython",
    "version": 3
   },
   "file_extension": ".py",
   "mimetype": "text/x-python",
   "name": "python",
   "nbconvert_exporter": "python",
   "pygments_lexer": "ipython3",
   "version": "3.8.18"
  }
 },
 "nbformat": 4,
 "nbformat_minor": 5
}
