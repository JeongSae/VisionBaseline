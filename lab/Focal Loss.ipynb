{
 "cells": [
  {
   "cell_type": "code",
   "execution_count": 1,
   "id": "bf5be362",
   "metadata": {},
   "outputs": [],
   "source": [
    "import numpy as np\n",
    "import torch as nn"
   ]
  },
  {
   "cell_type": "markdown",
   "id": "ac80fb89",
   "metadata": {},
   "source": [
    "## Focal Loss"
   ]
  },
  {
   "cell_type": "code",
   "execution_count": 4,
   "id": "cb5dfa8c",
   "metadata": {},
   "outputs": [
    {
     "name": "stdout",
     "output_type": "stream",
     "text": [
      "ce_loss :  tensor([0.9438, 0.5292, 1.3288, 0.8344, 0.2781], grad_fn=<NllLossBackward0>)\n",
      "p_t :  tensor([0.3892, 0.5891, 0.2648, 0.4341, 0.7572], grad_fn=<ExpBackward0>)\n",
      "tensor(0.2887, grad_fn=<MeanBackward0>)\n"
     ]
    }
   ],
   "source": [
    "import torch\n",
    "import torch.nn as nn\n",
    "import torch.nn.functional as F\n",
    "\n",
    "class FocalLoss(nn.Module):\n",
    "    def __init__(self, alpha=1, gamma=2, reduction='mean'):\n",
    "        super(FocalLoss, self).__init__()\n",
    "        self.alpha = alpha\n",
    "        self.gamma = gamma\n",
    "        self.reduction = reduction\n",
    "\n",
    "    def forward(self, inputs, targets):\n",
    "        # Cross Entropy Loss 계산\n",
    "        ce_loss = F.cross_entropy(inputs, targets, reduction='none')\n",
    "\n",
    "        print('ce_loss : ', ce_loss)\n",
    "        \n",
    "        # p_t 계산 (정답 클래스에 대한 확률)\n",
    "        # 부호 변화를 통해, 큰 값일수록 작아지도록 표현\n",
    "        p_t = torch.exp(-ce_loss)\n",
    "        \n",
    "        print('p_t : ', p_t)\n",
    "\n",
    "        # Focal Loss 계산\n",
    "        focal_loss = self.alpha * (1 - p_t) ** self.gamma * ce_loss\n",
    "\n",
    "        if self.reduction == 'mean':\n",
    "            return focal_loss.mean()\n",
    "        elif self.reduction == 'sum':\n",
    "            return focal_loss.sum()\n",
    "        else:\n",
    "            return focal_loss\n",
    "\n",
    "# 예시 사용법\n",
    "# gamma는 제곱, alpha는 비율이며 이를 비율의 형태로 만들어서 loss 값에 변화를 주는 방식을 의미 (데이터 별)\n",
    "criterion = FocalLoss(alpha=1, gamma=2)\n",
    "\n",
    "# 예시 입력 및 타겟 데이터\n",
    "inputs = torch.randn(5, 3, requires_grad=True)  # 배치 크기 5, 클래스 3개\n",
    "targets = torch.tensor([0, 1, 2, 1, 0])        # 타겟 클래스\n",
    "\n",
    "# 손실 계산\n",
    "loss = criterion(inputs, targets)\n",
    "print(loss)"
   ]
  },
  {
   "cell_type": "code",
   "execution_count": 12,
   "id": "c1c5e5d4",
   "metadata": {},
   "outputs": [
    {
     "data": {
      "text/plain": [
       "(array([  1.10517092,   1.64872127,   2.71828183,   7.3890561 ,\n",
       "         20.08553692, 148.4131591 ]),\n",
       " array([0.90483742, 0.60653066, 0.36787944, 0.13533528, 0.04978707,\n",
       "        0.00673795]))"
      ]
     },
     "execution_count": 12,
     "metadata": {},
     "output_type": "execute_result"
    }
   ],
   "source": [
    "np.exp([0.1, 0.5, 1, 2, 3, 5,]), np.exp([-0.1, -0.5, -1, -2, -3, -5, ])"
   ]
  },
  {
   "cell_type": "markdown",
   "id": "5ae052e4",
   "metadata": {},
   "source": [
    "## metrics"
   ]
  },
  {
   "cell_type": "code",
   "execution_count": 18,
   "id": "c5790655",
   "metadata": {},
   "outputs": [],
   "source": [
    "from torchmetrics.classification import Accuracy, AUROC, F1Score, Recall, Precision\n",
    "\n",
    "# metrics\n",
    "num_class = 40\n",
    "acc = Accuracy()\n",
    "auroc = AUROC()\n",
    "f1 = F1Score()\n",
    "recall = Recall()\n",
    "precision = Precision()"
   ]
  },
  {
   "cell_type": "code",
   "execution_count": null,
   "id": "c0f6447a",
   "metadata": {},
   "outputs": [],
   "source": []
  }
 ],
 "metadata": {
  "kernelspec": {
   "display_name": "work",
   "language": "python",
   "name": "workspace"
  },
  "language_info": {
   "codemirror_mode": {
    "name": "ipython",
    "version": 3
   },
   "file_extension": ".py",
   "mimetype": "text/x-python",
   "name": "python",
   "nbconvert_exporter": "python",
   "pygments_lexer": "ipython3",
   "version": "3.8.18"
  }
 },
 "nbformat": 4,
 "nbformat_minor": 5
}
