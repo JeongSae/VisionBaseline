{
 "cells": [
  {
   "cell_type": "code",
   "execution_count": 2,
   "id": "1a5c1f54",
   "metadata": {},
   "outputs": [],
   "source": [
    "import cv2\n",
    "import numpy as np\n",
    "import matplotlib.pyplot as plt\n",
    "from torchvision.transforms import RandomHorizontalFlip"
   ]
  },
  {
   "cell_type": "code",
   "execution_count": null,
   "id": "f305867b",
   "metadata": {},
   "outputs": [],
   "source": [
    "cv2.calibrateCamera()"
   ]
  },
  {
   "cell_type": "markdown",
   "id": "0d137bfd",
   "metadata": {},
   "source": [
    "## Multi Scale Crop"
   ]
  },
  {
   "cell_type": "code",
   "execution_count": 103,
   "id": "827c7613",
   "metadata": {},
   "outputs": [],
   "source": [
    "def crop_corner_center(source_img, image_list=None, if_main=False):\n",
    "    return_images = []\n",
    "    img_height, img_width = source_img.shape[0], source_img.shape[1]\n",
    "    \n",
    "    if if_main:\n",
    "        crop_factor = 0.9\n",
    "        corner_width, corner_height = img_width - int(img_width * crop_factor), img_height - int(img_height * crop_factor)\n",
    "        center_width, center_height = int((img_width - int(img_width * crop_factor)) / 2), int((img_height - int(img_height * crop_factor)) / 2)\n",
    "        \n",
    "        crop_positions = [\n",
    "            (0, img_width - corner_width, 0, img_height - corner_height),\n",
    "            (corner_width, img_width, 0, img_height - corner_height),\n",
    "            (0, img_width - corner_width, corner_height, img_height),\n",
    "            (corner_width, img_width, corner_height, img_height),\n",
    "            (center_width, img_width - center_width, center_height, img_height - center_height)\n",
    "        ]\n",
    "        \n",
    "        # augmentation loop\n",
    "        for c in crop_positions:\n",
    "            # aug image list\n",
    "            images = []\n",
    "            \n",
    "            # crop - 3 x 5\n",
    "            cropped_img = source_img[c[0]:c[1], c[2]:c[3], :]\n",
    "    \n",
    "            # crop - 3 x 5 x 5\n",
    "            crop_corner_center(cropped_img, image_list=images, if_main=False)\n",
    "            \n",
    "            # Flip - 3 x 5 x 5 x 2\n",
    "            for aug_img in images:                \n",
    "                fliped_img = cv2.flip(np.array(aug_img), 1)\n",
    "                \n",
    "                # save\n",
    "                return_images.append(aug_img)\n",
    "                return_images.append(fliped_img)\n",
    "    else:\n",
    "        corner_width, corner_height = img_width - 224, img_height - 224\n",
    "        center_width, center_height = int((img_width - 224) / 2), int((img_height - 224) / 2)\n",
    "        \n",
    "        crop_positions = [\n",
    "            (0, img_width - corner_width, 0, img_height - corner_height),\n",
    "            (corner_width, img_width, 0, img_height - corner_height),\n",
    "            (0, img_width - corner_width, corner_height, img_height),\n",
    "            (corner_width, img_width, corner_height, img_height),\n",
    "            (center_width, img_width - center_width, center_height, img_height - center_height)\n",
    "        ]\n",
    "        \n",
    "        for c in crop_positions:\n",
    "            # crop\n",
    "            cropped_img = source_img[c[0]:c[1], c[2]:c[3], :]\n",
    "            image_list.append(cropped_img)\n",
    "        \n",
    "        return image_list\n",
    "    \n",
    "    return return_images"
   ]
  },
  {
   "cell_type": "code",
   "execution_count": 104,
   "id": "b52703b9",
   "metadata": {},
   "outputs": [],
   "source": [
    "# open image - cv2\n",
    "img = cv2.imread('datasets/flowers-102/jpg/image_00001.jpg')\n",
    "img = cv2.cvtColor(img, cv2.COLOR_BGR2RGB)\n",
    "\n",
    "# multi scale\n",
    "images = []\n",
    "for scale in [256, 384, 512]:\n",
    "    img = cv2.resize(img, (scale, scale))\n",
    "\n",
    "    # crop corner and center position\n",
    "    aug_images = crop_corner_center(img, image_list=None, if_main=True)\n",
    "    \n",
    "    images.extend(aug_images)"
   ]
  }
 ],
 "metadata": {
  "kernelspec": {
   "display_name": "work",
   "language": "python",
   "name": "workspace"
  },
  "language_info": {
   "codemirror_mode": {
    "name": "ipython",
    "version": 3
   },
   "file_extension": ".py",
   "mimetype": "text/x-python",
   "name": "python",
   "nbconvert_exporter": "python",
   "pygments_lexer": "ipython3",
   "version": "3.8.18"
  }
 },
 "nbformat": 4,
 "nbformat_minor": 5
}
